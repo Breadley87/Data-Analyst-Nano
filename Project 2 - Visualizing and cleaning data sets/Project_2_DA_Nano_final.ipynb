{
 "cells": [
  {
   "cell_type": "markdown",
   "metadata": {},
   "source": [
    "# Project: Investigating gun ownership data in the USA\n",
    "\n",
    "## Table of Contents\n",
    "<ul>\n",
    "<li><a href=\"#intro\">Introduction</a></li>\n",
    "<li><a href=\"#wrangling\">Data Wrangling</a></li>\n",
    "<li><a href=\"#eda\">Exploratory Data Analysis</a></li>\n",
    "<li><a href=\"#conclusions\">Conclusions</a></li>\n",
    "</ul>"
   ]
  },
  {
   "cell_type": "markdown",
   "metadata": {},
   "source": [
    "<a id='intro'></a>\n",
    "## Introduction\n",
    "\n",
    "> The data sets chosen for this analysis were from the U.S. Census Bureau and the FBI's National Criminal Background Check System. The criminal background check is done when trying to legally purchase a firearm in the United States and this data set shows the number of background checks for various firearm and explosive purchase inquiries and re-inquiries. The Census bureau data contains several topics and questions asked but I will only be using the population estimate for 2016 and the poverty percentage of that population for each state for examination here.\n",
    "\n",
    "> The project will explore the number of total inquiries for gun purchase by state and try to expose trends per capita for each state. Also, I will consider if there were insights from the number of inquiries when comparied to states with higher poverty rates."
   ]
  },
  {
   "cell_type": "code",
   "execution_count": 26,
   "metadata": {},
   "outputs": [],
   "source": [
    "#importing necessary packages and allowing visualizations to be shown using %matplotlib inline\n",
    "import numpy as np\n",
    "import pandas as pd\n",
    "import matplotlib.pyplot as plt\n",
    "%matplotlib inline"
   ]
  },
  {
   "cell_type": "markdown",
   "metadata": {},
   "source": [
    "<a id='wrangling'></a>\n",
    "## Data Wrangling\n",
    "\n",
    ">The census and gun data are mostly unrelated and do not line up perfectly in terms of time frame. Also, \n",
    " the more recent population data(which all of the rest is based upon) is an estimate. These things should be considered \n",
    " when deciding on questions. Also, the census data is primarily strings and some rows vary between using decimal percentage \n",
    " indicators and the #% format. \n",
    " To start I chose two rows from the census DF I wanted to focus on regarding overall population estimate and percentage of \n",
    " population below poverty level. I reduced the df to these rows and then transposed the df so that the index is the state name\n",
    " in question. This is so I may merge the two data sets later. Then I cleaned up some unnecessary rows and converted all the \n",
    " string values to int or float. The population contained commas for the numeric values and needed to be removed before \n",
    " converting. Also the percentage column contained % which must be removed. Also, some values in the % row were decimal \n",
    " percentages and others were not. I grouped by these two sets and made them consistent by dividing the non decimal percentages\n",
    " by 100. Finally, after converting to numeric values, I added a column that multiplies the percentages by the estimated \n",
    " population to find the estimated population below the poverty line. The gun data set was much cleaner but did have some \n",
    " issues. The values were for several years while the census data was only from 2016 and 2010 exclusively. To remedy this issue\n",
    " I aggregated all the 2016 gun data by state. There were also a few US territories included in the gun data that were not \n",
    " in the census data. These rows were removed. I considered adding the district of columbia's data in a state's because it was\n",
    " likely part of the census but was unsure which would be most logical. The data for district of columbia was minimal but \n",
    " should be considered in my final statements. I then merged the two data sets using an outer join so I retain all columns \n",
    " and rows.\n",
    "\n",
    "### General Properties"
   ]
  },
  {
   "cell_type": "code",
   "execution_count": 27,
   "metadata": {},
   "outputs": [
    {
     "name": "stdout",
     "output_type": "stream",
     "text": [
      "<class 'pandas.core.frame.DataFrame'>\n",
      "RangeIndex: 85 entries, 0 to 84\n",
      "Data columns (total 52 columns):\n",
      "Fact              80 non-null object\n",
      "Fact Note         28 non-null object\n",
      "Alabama           65 non-null object\n",
      "Alaska            65 non-null object\n",
      "Arizona           65 non-null object\n",
      "Arkansas          65 non-null object\n",
      "California        65 non-null object\n",
      "Colorado          65 non-null object\n",
      "Connecticut       65 non-null object\n",
      "Delaware          65 non-null object\n",
      "Florida           65 non-null object\n",
      "Georgia           65 non-null object\n",
      "Hawaii            65 non-null object\n",
      "Idaho             65 non-null object\n",
      "Illinois          65 non-null object\n",
      "Indiana           65 non-null object\n",
      "Iowa              65 non-null object\n",
      "Kansas            65 non-null object\n",
      "Kentucky          65 non-null object\n",
      "Louisiana         65 non-null object\n",
      "Maine             65 non-null object\n",
      "Maryland          65 non-null object\n",
      "Massachusetts     65 non-null object\n",
      "Michigan          65 non-null object\n",
      "Minnesota         65 non-null object\n",
      "Mississippi       65 non-null object\n",
      "Missouri          65 non-null object\n",
      "Montana           65 non-null object\n",
      "Nebraska          65 non-null object\n",
      "Nevada            65 non-null object\n",
      "New Hampshire     65 non-null object\n",
      "New Jersey        65 non-null object\n",
      "New Mexico        65 non-null object\n",
      "New York          65 non-null object\n",
      "North Carolina    65 non-null object\n",
      "North Dakota      65 non-null object\n",
      "Ohio              65 non-null object\n",
      "Oklahoma          65 non-null object\n",
      "Oregon            65 non-null object\n",
      "Pennsylvania      65 non-null object\n",
      "Rhode Island      65 non-null object\n",
      "South Carolina    65 non-null object\n",
      "South Dakota      65 non-null object\n",
      "Tennessee         65 non-null object\n",
      "Texas             65 non-null object\n",
      "Utah              65 non-null object\n",
      "Vermont           65 non-null object\n",
      "Virginia          65 non-null object\n",
      "Washington        65 non-null object\n",
      "West Virginia     65 non-null object\n",
      "Wisconsin         65 non-null object\n",
      "Wyoming           65 non-null object\n",
      "dtypes: object(52)\n",
      "memory usage: 34.6+ KB\n",
      "<class 'pandas.core.frame.DataFrame'>\n",
      "RangeIndex: 12485 entries, 0 to 12484\n",
      "Data columns (total 27 columns):\n",
      "month                        12485 non-null object\n",
      "state                        12485 non-null object\n",
      "permit                       12461 non-null float64\n",
      "permit_recheck               1100 non-null float64\n",
      "handgun                      12465 non-null float64\n",
      "long_gun                     12466 non-null float64\n",
      "other                        5500 non-null float64\n",
      "multiple                     12485 non-null int64\n",
      "admin                        12462 non-null float64\n",
      "prepawn_handgun              10542 non-null float64\n",
      "prepawn_long_gun             10540 non-null float64\n",
      "prepawn_other                5115 non-null float64\n",
      "redemption_handgun           10545 non-null float64\n",
      "redemption_long_gun          10544 non-null float64\n",
      "redemption_other             5115 non-null float64\n",
      "returned_handgun             2200 non-null float64\n",
      "returned_long_gun            2145 non-null float64\n",
      "returned_other               1815 non-null float64\n",
      "rentals_handgun              990 non-null float64\n",
      "rentals_long_gun             825 non-null float64\n",
      "private_sale_handgun         2750 non-null float64\n",
      "private_sale_long_gun        2750 non-null float64\n",
      "private_sale_other           2750 non-null float64\n",
      "return_to_seller_handgun     2475 non-null float64\n",
      "return_to_seller_long_gun    2750 non-null float64\n",
      "return_to_seller_other       2255 non-null float64\n",
      "totals                       12485 non-null int64\n",
      "dtypes: float64(23), int64(2), object(2)\n",
      "memory usage: 2.6+ MB\n"
     ]
    },
    {
     "data": {
      "text/html": [
       "<div>\n",
       "<style scoped>\n",
       "    .dataframe tbody tr th:only-of-type {\n",
       "        vertical-align: middle;\n",
       "    }\n",
       "\n",
       "    .dataframe tbody tr th {\n",
       "        vertical-align: top;\n",
       "    }\n",
       "\n",
       "    .dataframe thead th {\n",
       "        text-align: right;\n",
       "    }\n",
       "</style>\n",
       "<table border=\"1\" class=\"dataframe\">\n",
       "  <thead>\n",
       "    <tr style=\"text-align: right;\">\n",
       "      <th></th>\n",
       "      <th>Fact</th>\n",
       "      <th>Fact Note</th>\n",
       "      <th>Alabama</th>\n",
       "      <th>Alaska</th>\n",
       "      <th>Arizona</th>\n",
       "      <th>Arkansas</th>\n",
       "      <th>California</th>\n",
       "      <th>Colorado</th>\n",
       "      <th>Connecticut</th>\n",
       "      <th>Delaware</th>\n",
       "      <th>...</th>\n",
       "      <th>South Dakota</th>\n",
       "      <th>Tennessee</th>\n",
       "      <th>Texas</th>\n",
       "      <th>Utah</th>\n",
       "      <th>Vermont</th>\n",
       "      <th>Virginia</th>\n",
       "      <th>Washington</th>\n",
       "      <th>West Virginia</th>\n",
       "      <th>Wisconsin</th>\n",
       "      <th>Wyoming</th>\n",
       "    </tr>\n",
       "  </thead>\n",
       "  <tbody>\n",
       "    <tr>\n",
       "      <th>0</th>\n",
       "      <td>Population estimates, July 1, 2016,  (V2016)</td>\n",
       "      <td>NaN</td>\n",
       "      <td>4,863,300</td>\n",
       "      <td>741,894</td>\n",
       "      <td>6,931,071</td>\n",
       "      <td>2,988,248</td>\n",
       "      <td>39,250,017</td>\n",
       "      <td>5,540,545</td>\n",
       "      <td>3,576,452</td>\n",
       "      <td>952,065</td>\n",
       "      <td>...</td>\n",
       "      <td>865454</td>\n",
       "      <td>6651194</td>\n",
       "      <td>27,862,596</td>\n",
       "      <td>3,051,217</td>\n",
       "      <td>624,594</td>\n",
       "      <td>8,411,808</td>\n",
       "      <td>7,288,000</td>\n",
       "      <td>1,831,102</td>\n",
       "      <td>5,778,708</td>\n",
       "      <td>585,501</td>\n",
       "    </tr>\n",
       "  </tbody>\n",
       "</table>\n",
       "<p>1 rows × 52 columns</p>\n",
       "</div>"
      ],
      "text/plain": [
       "                                           Fact Fact Note    Alabama   Alaska  \\\n",
       "0  Population estimates, July 1, 2016,  (V2016)       NaN  4,863,300  741,894   \n",
       "\n",
       "     Arizona   Arkansas  California   Colorado Connecticut Delaware   ...     \\\n",
       "0  6,931,071  2,988,248  39,250,017  5,540,545   3,576,452  952,065   ...      \n",
       "\n",
       "  South Dakota Tennessee       Texas       Utah  Vermont   Virginia  \\\n",
       "0       865454   6651194  27,862,596  3,051,217  624,594  8,411,808   \n",
       "\n",
       "  Washington West Virginia  Wisconsin  Wyoming  \n",
       "0  7,288,000     1,831,102  5,778,708  585,501  \n",
       "\n",
       "[1 rows x 52 columns]"
      ]
     },
     "execution_count": 27,
     "metadata": {},
     "output_type": "execute_result"
    }
   ],
   "source": [
    "#setting up both data sets to be cleaned\n",
    "df1 = pd.read_csv('U.S. Census Data.csv')\n",
    "df2 = pd.read_excel('gun_data.xlsx')\n",
    "df1.info() # found that the census data contained no null values in the needed columns\n",
    "df2.info() #found that gun data has certain columns that are very sparse\n",
    "#once the dfs are cleaned and only contain necessary columns we will look again at nulls and outliers\n",
    "df1.head(1)"
   ]
  },
  {
   "cell_type": "markdown",
   "metadata": {},
   "source": [
    "### Data Cleaning "
   ]
  },
  {
   "cell_type": "code",
   "execution_count": 28,
   "metadata": {},
   "outputs": [
    {
     "name": "stderr",
     "output_type": "stream",
     "text": [
      "/opt/conda/lib/python3.6/site-packages/pandas/core/frame.py:3697: SettingWithCopyWarning: \n",
      "A value is trying to be set on a copy of a slice from a DataFrame\n",
      "\n",
      "See the caveats in the documentation: http://pandas.pydata.org/pandas-docs/stable/indexing.html#indexing-view-versus-copy\n",
      "  errors=errors)\n"
     ]
    }
   ],
   "source": [
    "census_df = df1.iloc[[0, 49]] #reduced census data to rows 0 and 49 because these are the only ones used in analysis\n",
    "census_df.drop(['Fact Note'], axis=1, inplace=True) #dropped column because it was irrelevant and would prevent clean joining of two data sets\n",
    "census_df = census_df.transpose()#transposed so that the state column can be made join column later\n",
    "census_df = census_df.iloc[1:] #got rid of index column that was made when transposing\n",
    "census_df = census_df.rename({0: 'July_2016_pop_est', 49: 'poverty_percentage'}, axis='columns') #renaming columns to something shorter and more ingestible\n",
    "census_df['July_2016_pop_est'] = census_df['July_2016_pop_est'].str.replace(',', '') #cleaning population rows to remove commas so it may be convertied to numeric\n",
    "census_df['poverty_percentage'] = census_df['poverty_percentage'].str.replace('%', '') #cleaning percentage rows to remove % signs so it may be converted to numeric\n",
    "census_df = census_df.apply(pd.to_numeric) #changing the strings so we can perform math functions on data\n",
    "census_df['poverty_percentage'] = census_df['poverty_percentage'].apply(lambda x: x/100 if x>1 else x) #converting to decimal percent\n",
    "census_df['population_est_poverty'] = census_df['July_2016_pop_est'] * census_df['poverty_percentage'] #estimating the number of people under poverty criteria per state\n",
    "census_df.index.name = 'state' #naming the index for join of data sets later"
   ]
  },
  {
   "cell_type": "code",
   "execution_count": 29,
   "metadata": {},
   "outputs": [],
   "source": [
    "gun_df = df2[(df2['month'] >= '2016-01') & (df2['month'] < '2017-01')] #filtering by year because the gun data contained several years of data with sparse reporting for many states. Chose 2016 because it lined up with year from census data\n",
    "gun_df.set_index('state', inplace=True) #made state the index to join with other data\n",
    "gun_df = gun_df.groupby(['state']).sum() #taking monthly data for columns and converting it into yearly\n",
    "gun_df.drop(['prepawn_handgun', 'prepawn_long_gun', 'prepawn_other',\n",
    "       'redemption_handgun', 'redemption_long_gun', 'redemption_other',\n",
    "       'returned_handgun', 'returned_long_gun', 'returned_other',\n",
    "       'rentals_handgun', 'rentals_long_gun', 'private_sale_handgun',\n",
    "       'private_sale_long_gun', 'private_sale_other',\n",
    "       'return_to_seller_handgun', 'return_to_seller_long_gun',\n",
    "       'return_to_seller_other'], axis=1, inplace=True) #these columns were removed because they were highly variate from state to state and mostly zeroes. Their values were still captured in the totals column and that was the focus of report\n",
    "gun_df.drop(['Guam', 'District of Columbia', 'Puerto Rico', 'Mariana Islands', 'Virgin Islands'], inplace=True) #dropped US territories that were not in census data"
   ]
  },
  {
   "cell_type": "code",
   "execution_count": 30,
   "metadata": {},
   "outputs": [
    {
     "name": "stdout",
     "output_type": "stream",
     "text": [
      "<class 'pandas.core.frame.DataFrame'>\n",
      "Index: 50 entries, Alabama to Wyoming\n",
      "Data columns (total 11 columns):\n",
      "permit                    50 non-null float64\n",
      "permit_recheck            50 non-null float64\n",
      "handgun                   50 non-null float64\n",
      "long_gun                  50 non-null float64\n",
      "other                     50 non-null float64\n",
      "multiple                  50 non-null int64\n",
      "admin                     50 non-null float64\n",
      "totals                    50 non-null int64\n",
      "July_2016_pop_est         50 non-null int64\n",
      "poverty_percentage        50 non-null float64\n",
      "population_est_poverty    50 non-null float64\n",
      "dtypes: float64(8), int64(3)\n",
      "memory usage: 4.7+ KB\n"
     ]
    }
   ],
   "source": [
    "#the data is now clean and ready to be combined. An outer join was chosen so that all rows are kept\n",
    "df_combined = gun_df.merge(census_df, left_on='state', right_on='state', how='outer')\n",
    "df_combined.describe() #found that while some states had outliers, I chose to include the outliers in my exploration because of \n",
    "# the relatively small data set and the general unknown aspect of the gun inquiries. The check laws vary from state to state and \n",
    "# the purpose of my exploration is to find new areas of interest.\n",
    "df_combined.info() #there were no no null values once the data was cleaned\n"
   ]
  },
  {
   "cell_type": "markdown",
   "metadata": {},
   "source": [
    "<a id='eda'></a>\n",
    "## Exploratory Data Analysis\n",
    "\n",
    "\n",
    "### Do states with higher population also have higher gun purchase attempts? Do they also show a certain gun type is more popular in more populated areas?"
   ]
  },
  {
   "cell_type": "code",
   "execution_count": 31,
   "metadata": {},
   "outputs": [
    {
     "data": {
      "text/plain": [
       "<matplotlib.axes._subplots.AxesSubplot at 0x7f318dc664a8>"
      ]
     },
     "execution_count": 31,
     "metadata": {},
     "output_type": "execute_result"
    },
    {
     "data": {
      "image/png": "[encoded data removed]",
      "text/plain": [
       "<matplotlib.figure.Figure at 0x7f318e7fcc18>"
      ]
     },
     "metadata": {
      "needs_background": "light"
     },
     "output_type": "display_data"
    }
   ],
   "source": [
    "#before looking at the gun purchase inquiries by population level we need to make a logical breakup of population levels.\n",
    "#this is done using df.describe() for our population estimate column. The bins are set to be the different quartile edges.\n",
    "df_combined.describe().July_2016_pop_est\n",
    "bin_edges = [5.855009e+05, 1.850106e+06, 4.559320e+06, 7.198768e+06, 3.925003e+07]\n",
    "bin_names = ['low_pop', 'mod_low', 'mod_high', 'high']# made new column to group the populations in logical subsections\n",
    "df_combined['pop_level'] = pd.cut(df_combined['July_2016_pop_est'], bin_edges, labels=bin_names)\n",
    "#Now we can explore the population estimates visually to get a better idea of the attributes\n",
    "df_combined.July_2016_pop_est.hist()\n",
    "#the estimates are significantly skewed to the left(meaning most populations fall in a simlar group with a few outliers)"
   ]
  },
  {
   "cell_type": "code",
   "execution_count": 32,
   "metadata": {},
   "outputs": [
    {
     "data": {
      "text/plain": [
       "<matplotlib.axes._subplots.AxesSubplot at 0x7f318eac8240>"
      ]
     },
     "execution_count": 32,
     "metadata": {},
     "output_type": "execute_result"
    },
    {
     "data": {
      "image/png": "[encoded data removed]",
      "text/plain": [
       "<matplotlib.figure.Figure at 0x7f318b17bc50>"
      ]
     },
     "metadata": {
      "needs_background": "light"
     },
     "output_type": "display_data"
    }
   ],
   "source": [
    "#however when we explore the bins we made they contain roughly the same number of items and can be used for our questions\n",
    "df_combined.pop_level.hist()"
   ]
  },
  {
   "cell_type": "code",
   "execution_count": 33,
   "metadata": {},
   "outputs": [
    {
     "data": {
      "text/plain": [
       "Text(0,0.5,'Gun Purchase Inquiry per Capita')"
      ]
     },
     "execution_count": 33,
     "metadata": {},
     "output_type": "execute_result"
    },
    {
     "data": {
      "image/png": "[encoded data removed]",
      "text/plain": [
       "<matplotlib.figure.Figure at 0x7f318b194128>"
      ]
     },
     "metadata": {
      "needs_background": "light"
     },
     "output_type": "display_data"
    }
   ],
   "source": [
    "#now we creat a rate called 'guns_per_capita' to explore against the population level zones made previously\n",
    "df_combined['guns_per_capita'] = df_combined['totals'] / df_combined['July_2016_pop_est'] #made new column for rate\n",
    "df_combined.groupby('pop_level').mean().guns_per_capita #looked at the mean gun inquiries per capita to seperate into 4 equally sized bins\n",
    "labels = ['Low Pop.', 'Med. Low Pop.', 'Med. High Pop.', 'High Pop.']\n",
    "values = [0.090627, 0.139522, 0.096101, 0.067625] #used df.describe() to get values for bins\n",
    "plt.bar(labels, values)\n",
    "plt.title(\"Rate of Gun Purchase Inquiries by Population Level\")\n",
    "plt.xlabel(\"Population Level\")\n",
    "plt.ylabel(\"Gun Purchase Inquiry per Capita\")"
   ]
  },
  {
   "cell_type": "code",
   "execution_count": 34,
   "metadata": {},
   "outputs": [
    {
     "data": {
      "text/plain": [
       "Text(0.5,0,'Population Level')"
      ]
     },
     "execution_count": 34,
     "metadata": {},
     "output_type": "execute_result"
    },
    {
     "data": {
      "image/png": "[encoded data removed]",
      "text/plain": [
       "<matplotlib.figure.Figure at 0x7f318b7fc898>"
      ]
     },
     "metadata": {
      "needs_background": "light"
     },
     "output_type": "display_data"
    }
   ],
   "source": [
    "#now we explore this idea further by creating rates of qun inquiry by gun type and compare to the population levels\n",
    "df_combined['handguns_per_capita'] = df_combined['handgun'] / df_combined['July_2016_pop_est']\n",
    "df_combined['long_guns_per_capita'] = df_combined['long_gun'] / df_combined['July_2016_pop_est']\n",
    "df_combined['other_guns_per_capita'] = df_combined['other'] / df_combined['July_2016_pop_est']\n",
    "handgun = [0.033024, 0.026644, 0.031170, 0.022871] #used df.describe() to get values for bins\n",
    "longgun = [0.035310, 0.022627, 0.023665, 0.015234]\n",
    "other = [0.001967, 0.001171, 0.001752, 0.001453]\n",
    "df_plot = pd.DataFrame({'Hand Guns': handgun, 'Long Guns': longgun, 'Other': other}, index=labels)\n",
    "chart = df_plot.plot.bar(title='Gun Purchase Inquiries, by Gun Category, Separated by Pop. Level', rot=0)\n",
    "plt.ylabel('Gun Inquiry Rate per Capita')\n",
    "plt.xlabel('Population Level')"
   ]
  },
  {
   "cell_type": "markdown",
   "metadata": {},
   "source": [
    "### Does poverty level indicate anything about gun ownership?"
   ]
  },
  {
   "cell_type": "code",
   "execution_count": 35,
   "metadata": {},
   "outputs": [
    {
     "data": {
      "image/png": "[encoded data removed]",
      "text/plain": [
       "<matplotlib.figure.Figure at 0x7f318b820908>"
      ]
     },
     "metadata": {},
     "output_type": "display_data"
    }
   ],
   "source": [
    "#nothing very significant was revealed by doing this... what if we look at gun inquiries based upon a states percentage of the\n",
    "#population below the poverty line?\n",
    "df_combined.sort_values(by=['poverty_percentage']) #found states with highest poverty rates\n",
    "bin_edges = [0.072, 0.108, 0.122, 0.142, 0.159, 0.209] #split into 5 evenly sized bins of ten states each\n",
    "bin_names = ['very_low', 'low', 'med', 'high', 'very_high']\n",
    "df_combined['poverty_level'] = pd.cut(df_combined['poverty_percentage'], bin_edges, labels=bin_names)#created new column with poverty levels\n",
    "df_combined.groupby('poverty_level').sum().totals #found number of total inquiries by the poverty zones made\n",
    "total_gun_inquiries = df_combined.totals.sum() #values used to determine what % each bin makes up of the whole in terms of gun inquiries\n",
    "labels = ['Very Low', 'Low', 'Average', 'High', 'Very High']\n",
    "#now we convert to percentages in the next line to communicate percentages more clearly\n",
    "values = [2119158/total_gun_inquiries*100, 2994627/total_gun_inquiries*100, 5996632/total_gun_inquiries*100, 9269874/total_gun_inquiries*100, 7025258/total_gun_inquiries*100]\n",
    "explode = (0, 0, 0, 0.1, 0.2) #accentuate the largest slices\n",
    "fig1, ax1 = plt.subplots()\n",
    "ax1.pie(values, explode=explode, labels=labels, autopct='%1.1f%%',\n",
    "        shadow=True, startangle=90)\n",
    "ax1.axis('equal')  # Equal aspect ratio ensures that pie is drawn as a circle.\n",
    "\n",
    "plt.show()"
   ]
  },
  {
   "cell_type": "markdown",
   "metadata": {},
   "source": [
    "<a id='conclusions'></a>\n",
    "## Conclusions\n",
    "\n",
    "> Limitations to my study were that my two data sets did not line up exactly. The gun data had many many years to explore while the census data was a report of one year for population only and an estimate for another. Estimates increase the risk of innacuracy. Also, most of the census data was very specific questions about the population that weren't fully relatable to gun purchase inquiries. Also, the gun data is not very clear. I assume it does not indicate whether a gun is actually purchased or denied. It does not capture illegal purchases or unchecked purchases and it doesn't actually indicate how many guns may actually be in a state at a given time. Finally, the gun data points are just not totally clear about their meaning for each column and it is difficult to assume what they mean based on their naming. The place where the data was extracted gave no more information than what was shared in this report.\n",
    "\n",
    "> When exploring the gun and census data I found some interesting things that should be expanded upon with further research. In 2016 over 1/4 of gun inquiries were requested by people that are from states with the highest poverty rates for that year(ten highest poverty rates). Nearly 60% were in the 20 states with the highest poverty rate. It would require much further inspection but this might be an area of interest. However, when exploring the number of gun inquiries by more densely populated areas in 2016 there was not much of interest. Possibly the most interesting point was the high number of gun inquiry rates per capita being so high comparitively in terms of hand guns and long guns. I would wish to explore further with more data from both of these areas of interest."
   ]
  },
  {
   "cell_type": "code",
   "execution_count": 36,
   "metadata": {},
   "outputs": [
    {
     "data": {
      "text/plain": [
       "0"
      ]
     },
     "execution_count": 36,
     "metadata": {},
     "output_type": "execute_result"
    }
   ],
   "source": [
    "from subprocess import call\n",
    "call(['python', '-m', 'nbconvert', 'Investigate_a_Dataset.ipynb'])"
   ]
  },
  {
   "cell_type": "code",
   "execution_count": null,
   "metadata": {},
   "outputs": [],
   "source": []
  }
 ],
 "metadata": {
  "kernelspec": {
   "display_name": "Python 3",
   "language": "python",
   "name": "python3"
  },
  "language_info": {
   "codemirror_mode": {
    "name": "ipython",
    "version": 3
   },
   "file_extension": ".py",
   "mimetype": "text/x-python",
   "name": "python",
   "nbconvert_exporter": "python",
   "pygments_lexer": "ipython3",
   "version": "3.6.3"
  }
 },
 "nbformat": 4,
 "nbformat_minor": 2
}
